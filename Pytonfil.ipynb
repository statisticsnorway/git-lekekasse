{
 "cells": [
  {
   "cell_type": "markdown",
   "id": "556d9304-5ea9-469a-90d9-1d92d66a287a",
   "metadata": {},
   "source": [
    "Dette er en testfil for å lære seg Git. \n",
    "I denne fila kan alle gjøre hva de ønsker. "
   ]
  },
  {
   "cell_type": "code",
   "execution_count": null,
   "id": "df35f387-d75b-4736-b30f-6f576688cf14",
   "metadata": {},
   "outputs": [],
   "source": [
    "print('Her skulle det stått noe morsomt')"
   ]
  },
  {
   "cell_type": "code",
   "execution_count": null,
   "id": "69348277-11b3-4e84-b1c4-ac31f5d39a54",
   "metadata": {},
   "outputs": [],
   "source": [
    "x=2\n",
    "y=0\n",
    "z=1"
   ]
  },
  {
   "cell_type": "code",
   "execution_count": null,
   "id": "2d42d7a8-5194-4838-afcd-9ffed91e08f1",
   "metadata": {},
   "outputs": [],
   "source": [
    "x+y+z"
   ]
  },
  {
   "cell_type": "code",
   "execution_count": null,
   "id": "54a45624-8cbf-4f87-a35d-4a50f5ed3891",
   "metadata": {},
   "outputs": [],
   "source": []
  }
 ],
 "metadata": {
  "kernelspec": {
   "display_name": "Python 3",
   "language": "python",
   "name": "python3"
  },
  "language_info": {
   "codemirror_mode": {
    "name": "ipython",
    "version": 3
   },
   "file_extension": ".py",
   "mimetype": "text/x-python",
   "name": "python",
   "nbconvert_exporter": "python",
   "pygments_lexer": "ipython3",
   "version": "3.8.8"
  }
 },
 "nbformat": 4,
 "nbformat_minor": 5
}
