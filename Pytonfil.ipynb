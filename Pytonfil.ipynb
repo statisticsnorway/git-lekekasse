{
 "cells": [
  {
   "cell_type": "markdown",
   "id": "556d9304-5ea9-469a-90d9-1d92d66a287a",
   "metadata": {
    "tags": []
   },
   "source": [
    "Dette er en testfil for å lære seg Git. \n",
    "I denne fila kan alle gjøre hva de ønsker. "
   ]
  },
  {
   "cell_type": "code",
   "execution_count": null,
   "id": "6a37d347-976e-42f9-902b-9ff8c5df881b",
   "metadata": {},
   "outputs": [],
   "source": [
    "import numpy as np\n",
    "import pandas as pd"
   ]
  },
  {
   "cell_type": "code",
   "execution_count": null,
   "id": "df35f387-d75b-4736-b30f-6f576688cf14",
   "metadata": {},
   "outputs": [],
   "source": [
    "print('Her skulle det stått noe morsomt')"
   ]
  },
  {
   "cell_type": "code",
   "execution_count": null,
   "id": "69348277-11b3-4e84-b1c4-ac31f5d39a54",
   "metadata": {},
   "outputs": [],
   "source": [
    "x=2\n",
    "y=0\n",
    "z=1"
   ]
  },
  {
   "cell_type": "code",
   "execution_count": null,
   "id": "2d42d7a8-5194-4838-afcd-9ffed91e08f1",
   "metadata": {},
   "outputs": [],
   "source": [
    "x+y+z"
   ]
  },
  {
   "cell_type": "code",
   "execution_count": null,
   "id": "54a45624-8cbf-4f87-a35d-4a50f5ed3891",
   "metadata": {},
   "outputs": [],
   "source": [
    "y = 3"
   ]
  },
  {
   "cell_type": "code",
   "execution_count": null,
   "id": "b36ebbd7-5e90-4b5c-802d-e616cc2b46b3",
   "metadata": {},
   "outputs": [],
   "source": [
    "z=5"
   ]
  },
  {
   "cell_type": "code",
   "execution_count": null,
   "id": "b4471ac2-bf7b-4e39-acaa-a98f3cef1dee",
   "metadata": {},
   "outputs": [],
   "source": [
    "print('Even har lagd en endring')\n"
   ]
  },
  {
   "cell_type": "markdown",
   "id": "62bc864d-cc74-49a5-b136-7355b8842852",
   "metadata": {},
   "source": [
    "Under lages en tilfeldig dataframe"
   ]
  },
  {
   "cell_type": "code",
   "execution_count": null,
   "id": "57d01775-2d1c-44c5-8f2e-1c54f2f69c59",
   "metadata": {},
   "outputs": [],
   "source": [
    "df = pd.DataFrame(np.random.randint(0,100,size=(100, 4)), columns=list('ABCD'))\n",
    "df\n"
   ]
  },
  {
   "cell_type": "code",
   "execution_count": null,
   "id": "65a86ddd-a1da-4841-9ad4-cacaf9551fad",
   "metadata": {},
   "outputs": [],
   "source": []
  },
  {
   "cell_type": "code",
   "execution_count": null,
   "id": "a4748459-1bd8-4147-a3b5-76975ee2e11f",
   "metadata": {},
   "outputs": [],
   "source": []
  }
 ],
 "metadata": {
  "kernelspec": {
   "display_name": "Python 3",
   "language": "python",
   "name": "python3"
  },
  "language_info": {
   "codemirror_mode": {
    "name": "ipython",
    "version": 3
   },
   "file_extension": ".py",
   "mimetype": "text/x-python",
   "name": "python",
   "nbconvert_exporter": "python",
   "pygments_lexer": "ipython3",
   "version": "3.8.8"
  }
 },
 "nbformat": 4,
 "nbformat_minor": 5
}
